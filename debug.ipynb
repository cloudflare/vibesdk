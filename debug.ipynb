{
 "cells": [
  {
   "cell_type": "code",
   "execution_count": 1,
   "id": "d0df1191",
   "metadata": {},
   "outputs": [],
   "source": [
    "import json"
   ]
  },
  {
   "cell_type": "code",
   "execution_count": 2,
   "id": "689c1b96",
   "metadata": {},
   "outputs": [],
   "source": [
    "f = open('./errorfile.json', 'r').read()"
   ]
  },
  {
   "cell_type": "code",
   "execution_count": 7,
   "id": "bc263258",
   "metadata": {},
   "outputs": [],
   "source": [
    "obj = json.loads(f)"
   ]
  },
  {
   "cell_type": "code",
   "execution_count": 12,
   "id": "c2661f02",
   "metadata": {},
   "outputs": [
    {
     "data": {
      "text/plain": [
       "'Error sett'"
      ]
     },
     "execution_count": 12,
     "metadata": {},
     "output_type": "execute_result"
    }
   ],
   "source": [
    "obj['error'][:10]"
   ]
  },
  {
   "cell_type": "code",
   "execution_count": null,
   "id": "e941606c",
   "metadata": {},
   "outputs": [],
   "source": []
  }
 ],
 "metadata": {
  "kernelspec": {
   "display_name": "Python 3",
   "language": "python",
   "name": "python3"
  },
  "language_info": {
   "codemirror_mode": {
    "name": "ipython",
    "version": 3
   },
   "file_extension": ".py",
   "mimetype": "text/x-python",
   "name": "python",
   "nbconvert_exporter": "python",
   "pygments_lexer": "ipython3",
   "version": "3.13.5"
  }
 },
 "nbformat": 4,
 "nbformat_minor": 5
}
